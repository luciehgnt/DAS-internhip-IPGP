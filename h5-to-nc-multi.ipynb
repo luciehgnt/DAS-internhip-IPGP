{
 "cells": [
  {
   "cell_type": "markdown",
   "metadata": {},
   "source": [
    "Libraries and modules"
   ]
  },
  {
   "cell_type": "code",
   "execution_count": 1,
   "metadata": {},
   "outputs": [],
   "source": [
    "import numpy as np\n",
    "import xarray as xr\n",
    "import pandas as pd\n",
    "import glob\n",
    "\n",
    "from xdas.io.febus import read as read_das\n",
    "from xdas.io.febus import correct_gps_time"
   ]
  },
  {
   "cell_type": "markdown",
   "metadata": {},
   "source": [
    "Pathes"
   ]
  },
  {
   "cell_type": "code",
   "execution_count": 2,
   "metadata": {},
   "outputs": [],
   "source": [
    "user = 'ipgp'\n",
    "\n",
    "if user == 'ipgp':\n",
    "    #path1 = '/localstorage/hugonnet/DAS_2022/SR-STROMBOLI-2022-09-AQ08-FIBERGREEN/' #path to h5-file \n",
    "    path1 = '/net/runic/moby/data/projets/monidas/stromboli/stromboli_2023/das_2023/SR-STROMBOLI-2022-10-AQ14-FIBERGREEN/'\n",
    "    path2 = '/media/hugonnet/DISKENOIR/fichiers-nc/' # path for new nc-file\n",
    "    path3 = '/net/runic/moby/data/projets/monidas/biagioli/Geolocation_DAS/2022/' # path to geolocation information of the fiber\n",
    "\n",
    "elif user == 'eleonore' :\n",
    "    path1 = '/Users/stutz/DAS/DAS_STROMBOLI/2022_STROMBOLI_MANIP/SILIXA_iDAS/DATA_VLP_FEBUS/' #path to h5-file \n",
    "    path2 = path1 # path for new nc-file\n",
    "    path3 = path1 # path to geolocation information of the fiber\n",
    "    \n",
    "elif user == 'mba' :\n",
    "    path1 = '' #path to h5-file \n",
    "    path2 = '' # path for new nc-file\n",
    "    path3 = '' # path to geolocation information of the fiber"
   ]
  },
  {
   "cell_type": "markdown",
   "metadata": {},
   "source": [
    "Geolocation infomation of the fiber"
   ]
  },
  {
   "cell_type": "code",
   "execution_count": 3,
   "metadata": {},
   "outputs": [
    {
     "data": {
      "text/html": [
       "<div>\n",
       "<style scoped>\n",
       "    .dataframe tbody tr th:only-of-type {\n",
       "        vertical-align: middle;\n",
       "    }\n",
       "\n",
       "    .dataframe tbody tr th {\n",
       "        vertical-align: top;\n",
       "    }\n",
       "\n",
       "    .dataframe thead th {\n",
       "        text-align: right;\n",
       "    }\n",
       "</style>\n",
       "<table border=\"1\" class=\"dataframe\">\n",
       "  <thead>\n",
       "    <tr style=\"text-align: right;\">\n",
       "      <th></th>\n",
       "      <th>Unnamed: 0</th>\n",
       "      <th>Lon</th>\n",
       "      <th>Lat</th>\n",
       "      <th>Alt</th>\n",
       "      <th>orientation</th>\n",
       "      <th>channel</th>\n",
       "      <th>offset</th>\n",
       "    </tr>\n",
       "  </thead>\n",
       "  <tbody>\n",
       "    <tr>\n",
       "      <th>0</th>\n",
       "      <td>0</td>\n",
       "      <td>520007.664573</td>\n",
       "      <td>4.294532e+06</td>\n",
       "      <td>201.869301</td>\n",
       "      <td>258.496775</td>\n",
       "      <td>56</td>\n",
       "      <td>112</td>\n",
       "    </tr>\n",
       "    <tr>\n",
       "      <th>1</th>\n",
       "      <td>1</td>\n",
       "      <td>520005.809986</td>\n",
       "      <td>4.294531e+06</td>\n",
       "      <td>202.385264</td>\n",
       "      <td>259.523808</td>\n",
       "      <td>57</td>\n",
       "      <td>114</td>\n",
       "    </tr>\n",
       "    <tr>\n",
       "      <th>2</th>\n",
       "      <td>2</td>\n",
       "      <td>520003.990515</td>\n",
       "      <td>4.294531e+06</td>\n",
       "      <td>202.910522</td>\n",
       "      <td>260.460538</td>\n",
       "      <td>58</td>\n",
       "      <td>116</td>\n",
       "    </tr>\n",
       "    <tr>\n",
       "      <th>3</th>\n",
       "      <td>3</td>\n",
       "      <td>520002.169435</td>\n",
       "      <td>4.294531e+06</td>\n",
       "      <td>203.691057</td>\n",
       "      <td>263.081228</td>\n",
       "      <td>59</td>\n",
       "      <td>118</td>\n",
       "    </tr>\n",
       "    <tr>\n",
       "      <th>4</th>\n",
       "      <td>4</td>\n",
       "      <td>520000.634709</td>\n",
       "      <td>4.294530e+06</td>\n",
       "      <td>204.896641</td>\n",
       "      <td>263.690817</td>\n",
       "      <td>60</td>\n",
       "      <td>120</td>\n",
       "    </tr>\n",
       "    <tr>\n",
       "      <th>...</th>\n",
       "      <td>...</td>\n",
       "      <td>...</td>\n",
       "      <td>...</td>\n",
       "      <td>...</td>\n",
       "      <td>...</td>\n",
       "      <td>...</td>\n",
       "      <td>...</td>\n",
       "    </tr>\n",
       "    <tr>\n",
       "      <th>2765</th>\n",
       "      <td>2765</td>\n",
       "      <td>519224.120264</td>\n",
       "      <td>4.294316e+06</td>\n",
       "      <td>531.965556</td>\n",
       "      <td>61.905754</td>\n",
       "      <td>2821</td>\n",
       "      <td>5642</td>\n",
       "    </tr>\n",
       "    <tr>\n",
       "      <th>2766</th>\n",
       "      <td>2766</td>\n",
       "      <td>519225.772891</td>\n",
       "      <td>4.294317e+06</td>\n",
       "      <td>531.215331</td>\n",
       "      <td>61.905766</td>\n",
       "      <td>2822</td>\n",
       "      <td>5644</td>\n",
       "    </tr>\n",
       "    <tr>\n",
       "      <th>2767</th>\n",
       "      <td>2767</td>\n",
       "      <td>519227.425517</td>\n",
       "      <td>4.294318e+06</td>\n",
       "      <td>530.465105</td>\n",
       "      <td>61.905775</td>\n",
       "      <td>2823</td>\n",
       "      <td>5646</td>\n",
       "    </tr>\n",
       "    <tr>\n",
       "      <th>2768</th>\n",
       "      <td>2768</td>\n",
       "      <td>519229.078144</td>\n",
       "      <td>4.294319e+06</td>\n",
       "      <td>529.714879</td>\n",
       "      <td>61.905781</td>\n",
       "      <td>2824</td>\n",
       "      <td>5648</td>\n",
       "    </tr>\n",
       "    <tr>\n",
       "      <th>2769</th>\n",
       "      <td>2769</td>\n",
       "      <td>519230.730770</td>\n",
       "      <td>4.294320e+06</td>\n",
       "      <td>528.964653</td>\n",
       "      <td>61.905786</td>\n",
       "      <td>2825</td>\n",
       "      <td>5650</td>\n",
       "    </tr>\n",
       "  </tbody>\n",
       "</table>\n",
       "<p>2770 rows × 7 columns</p>\n",
       "</div>"
      ],
      "text/plain": [
       "      Unnamed: 0            Lon           Lat         Alt  orientation  \\\n",
       "0              0  520007.664573  4.294532e+06  201.869301   258.496775   \n",
       "1              1  520005.809986  4.294531e+06  202.385264   259.523808   \n",
       "2              2  520003.990515  4.294531e+06  202.910522   260.460538   \n",
       "3              3  520002.169435  4.294531e+06  203.691057   263.081228   \n",
       "4              4  520000.634709  4.294530e+06  204.896641   263.690817   \n",
       "...          ...            ...           ...         ...          ...   \n",
       "2765        2765  519224.120264  4.294316e+06  531.965556    61.905754   \n",
       "2766        2766  519225.772891  4.294317e+06  531.215331    61.905766   \n",
       "2767        2767  519227.425517  4.294318e+06  530.465105    61.905775   \n",
       "2768        2768  519229.078144  4.294319e+06  529.714879    61.905781   \n",
       "2769        2769  519230.730770  4.294320e+06  528.964653    61.905786   \n",
       "\n",
       "      channel  offset  \n",
       "0          56     112  \n",
       "1          57     114  \n",
       "2          58     116  \n",
       "3          59     118  \n",
       "4          60     120  \n",
       "...       ...     ...  \n",
       "2765     2821    5642  \n",
       "2766     2822    5644  \n",
       "2767     2823    5646  \n",
       "2768     2824    5648  \n",
       "2769     2825    5650  \n",
       "\n",
       "[2770 rows x 7 columns]"
      ]
     },
     "execution_count": 3,
     "metadata": {},
     "output_type": "execute_result"
    }
   ],
   "source": [
    "fibre =  pd.read_excel(path3+'DAS_channels_2022_UTM.xlsx')\n",
    "fibre"
   ]
  },
  {
   "cell_type": "code",
   "execution_count": 4,
   "metadata": {},
   "outputs": [],
   "source": [
    "mid_long = fibre['Lon'].values\n",
    "mid_lat = fibre['Lat'].values\n",
    "mid_alt = fibre['Alt'].values\n",
    "mid_ori = fibre['orientation'].values\n",
    "mid_ch = fibre['channel'].values\n",
    "mid_offset = fibre['offset'].values"
   ]
  },
  {
   "cell_type": "code",
   "execution_count": 5,
   "metadata": {},
   "outputs": [],
   "source": [
    "beg_ch = np.arange(0, 56)\n",
    "end_ch = np.arange(2826,3250)\n",
    "channels = np.concatenate((beg_ch, mid_ch, end_ch))"
   ]
  },
  {
   "cell_type": "code",
   "execution_count": 6,
   "metadata": {},
   "outputs": [],
   "source": [
    "beg_nan = np.full(56, np.nan)\n",
    "end_nan = np.full(424, np.nan)\n",
    "\n",
    "longitude = np.concatenate((beg_nan, mid_long, end_nan))\n",
    "latitude = np.concatenate((beg_nan, mid_lat, end_nan))\n",
    "altitude = np.concatenate((beg_nan, mid_alt, end_nan))\n",
    "orientation = np.concatenate((beg_nan, mid_ori, end_nan))"
   ]
  },
  {
   "cell_type": "markdown",
   "metadata": {},
   "source": [
    "Reading of the .h5 files into datasets and conversion in .nc"
   ]
  },
  {
   "cell_type": "code",
   "execution_count": 28,
   "metadata": {},
   "outputs": [
    {
     "data": {
      "text/plain": [
       "['/net/runic/moby/data/projets/monidas/stromboli/stromboli_2023/das_2023/SR-STROMBOLI-2022-10-AQ14-FIBERGREEN/SR_DS_STROMBOLI_2022-11-03_11-12-11_UTC.h5',\n",
       " '/net/runic/moby/data/projets/monidas/stromboli/stromboli_2023/das_2023/SR-STROMBOLI-2022-10-AQ14-FIBERGREEN/SR_DS_STROMBOLI_2022-11-03_10-12-11_UTC.h5',\n",
       " '/net/runic/moby/data/projets/monidas/stromboli/stromboli_2023/das_2023/SR-STROMBOLI-2022-10-AQ14-FIBERGREEN/SR_DS_STROMBOLI_2022-11-03_12-12-11_UTC.h5',\n",
       " '/net/runic/moby/data/projets/monidas/stromboli/stromboli_2023/das_2023/SR-STROMBOLI-2022-10-AQ14-FIBERGREEN/SR_DS_STROMBOLI_2022-11-03_13-12-11_UTC.h5',\n",
       " '/net/runic/moby/data/projets/monidas/stromboli/stromboli_2023/das_2023/SR-STROMBOLI-2022-10-AQ14-FIBERGREEN/SR_DS_STROMBOLI_2022-11-03_16-12-11_UTC.h5',\n",
       " '/net/runic/moby/data/projets/monidas/stromboli/stromboli_2023/das_2023/SR-STROMBOLI-2022-10-AQ14-FIBERGREEN/SR_DS_STROMBOLI_2022-11-03_17-12-11_UTC.h5',\n",
       " '/net/runic/moby/data/projets/monidas/stromboli/stromboli_2023/das_2023/SR-STROMBOLI-2022-10-AQ14-FIBERGREEN/SR_DS_STROMBOLI_2022-11-03_15-12-11_UTC.h5',\n",
       " '/net/runic/moby/data/projets/monidas/stromboli/stromboli_2023/das_2023/SR-STROMBOLI-2022-10-AQ14-FIBERGREEN/SR_DS_STROMBOLI_2022-11-03_14-12-11_UTC.h5',\n",
       " '/net/runic/moby/data/projets/monidas/stromboli/stromboli_2023/das_2023/SR-STROMBOLI-2022-10-AQ14-FIBERGREEN/SR_DS_STROMBOLI_2022-11-03_18-12-11_UTC.h5',\n",
       " '/net/runic/moby/data/projets/monidas/stromboli/stromboli_2023/das_2023/SR-STROMBOLI-2022-10-AQ14-FIBERGREEN/SR_DS_STROMBOLI_2022-11-03_19-12-11_UTC.h5',\n",
       " '/net/runic/moby/data/projets/monidas/stromboli/stromboli_2023/das_2023/SR-STROMBOLI-2022-10-AQ14-FIBERGREEN/SR_DS_STROMBOLI_2022-11-03_21-12-11_UTC.h5',\n",
       " '/net/runic/moby/data/projets/monidas/stromboli/stromboli_2023/das_2023/SR-STROMBOLI-2022-10-AQ14-FIBERGREEN/SR_DS_STROMBOLI_2022-11-03_20-12-11_UTC.h5',\n",
       " '/net/runic/moby/data/projets/monidas/stromboli/stromboli_2023/das_2023/SR-STROMBOLI-2022-10-AQ14-FIBERGREEN/SR_DS_STROMBOLI_2022-11-03_22-12-11_UTC.h5',\n",
       " '/net/runic/moby/data/projets/monidas/stromboli/stromboli_2023/das_2023/SR-STROMBOLI-2022-10-AQ14-FIBERGREEN/SR_DS_STROMBOLI_2022-11-03_08-12-11_UTC.h5',\n",
       " '/net/runic/moby/data/projets/monidas/stromboli/stromboli_2023/das_2023/SR-STROMBOLI-2022-10-AQ14-FIBERGREEN/SR_DS_STROMBOLI_2022-11-03_09-12-11_UTC.h5',\n",
       " '/net/runic/moby/data/projets/monidas/stromboli/stromboli_2023/das_2023/SR-STROMBOLI-2022-10-AQ14-FIBERGREEN/SR_DS_STROMBOLI_2022-11-03_23-12-11_UTC.h5',\n",
       " '/net/runic/moby/data/projets/monidas/stromboli/stromboli_2023/das_2023/SR-STROMBOLI-2022-10-AQ14-FIBERGREEN/SR_DS_STROMBOLI_2022-11-03_05-12-11_UTC.h5',\n",
       " '/net/runic/moby/data/projets/monidas/stromboli/stromboli_2023/das_2023/SR-STROMBOLI-2022-10-AQ14-FIBERGREEN/SR_DS_STROMBOLI_2022-11-03_04-12-11_UTC.h5',\n",
       " '/net/runic/moby/data/projets/monidas/stromboli/stromboli_2023/das_2023/SR-STROMBOLI-2022-10-AQ14-FIBERGREEN/SR_DS_STROMBOLI_2022-11-03_06-12-11_UTC.h5',\n",
       " '/net/runic/moby/data/projets/monidas/stromboli/stromboli_2023/das_2023/SR-STROMBOLI-2022-10-AQ14-FIBERGREEN/SR_DS_STROMBOLI_2022-11-03_07-12-11_UTC.h5',\n",
       " '/net/runic/moby/data/projets/monidas/stromboli/stromboli_2023/das_2023/SR-STROMBOLI-2022-10-AQ14-FIBERGREEN/SR_DS_STROMBOLI_2022-11-03_02-12-11_UTC.h5',\n",
       " '/net/runic/moby/data/projets/monidas/stromboli/stromboli_2023/das_2023/SR-STROMBOLI-2022-10-AQ14-FIBERGREEN/SR_DS_STROMBOLI_2022-11-03_03-12-11_UTC.h5',\n",
       " '/net/runic/moby/data/projets/monidas/stromboli/stromboli_2023/das_2023/SR-STROMBOLI-2022-10-AQ14-FIBERGREEN/SR_DS_STROMBOLI_2022-11-03_01-12-11_UTC.h5',\n",
       " '/net/runic/moby/data/projets/monidas/stromboli/stromboli_2023/das_2023/SR-STROMBOLI-2022-10-AQ14-FIBERGREEN/SR_DS_STROMBOLI_2022-11-03_00-12-11_UTC.h5']"
      ]
     },
     "execution_count": 28,
     "metadata": {},
     "output_type": "execute_result"
    }
   ],
   "source": [
    "files = glob.glob(path1 + \"*2022-11-03*.h5\")\n",
    "files.sort()\n",
    "files"
   ]
  },
  {
   "cell_type": "code",
   "execution_count": 30,
   "metadata": {},
   "outputs": [
    {
     "data": {
      "text/plain": [
       "24"
      ]
     },
     "execution_count": 30,
     "metadata": {},
     "output_type": "execute_result"
    }
   ],
   "source": [
    "len(files)"
   ]
  },
  {
   "cell_type": "code",
   "execution_count": 31,
   "metadata": {},
   "outputs": [
    {
     "name": "stderr",
     "output_type": "stream",
     "text": [
      "/tmp/ipykernel_2492/629128973.py:24: UserWarning: Converting non-nanosecond precision datetime values to nanosecond precision. This behavior can eventually be relaxed in xarray, as it is an artifact from pandas which is now beginning to support non-nanosecond precision values. This warning is caused by passing non-nanosecond np.datetime64 or np.timedelta64 values to the DataArray or Variable constructor; it can be silenced by converting the values to nanosecond precision ahead of time.\n",
      "  ds['time'] = times_extended\n",
      "/tmp/ipykernel_2492/629128973.py:24: UserWarning: Converting non-nanosecond precision datetime values to nanosecond precision. This behavior can eventually be relaxed in xarray, as it is an artifact from pandas which is now beginning to support non-nanosecond precision values. This warning is caused by passing non-nanosecond np.datetime64 or np.timedelta64 values to the DataArray or Variable constructor; it can be silenced by converting the values to nanosecond precision ahead of time.\n",
      "  ds['time'] = times_extended\n"
     ]
    },
    {
     "name": "stdout",
     "output_type": "stream",
     "text": [
      "file 1 is done\n"
     ]
    },
    {
     "name": "stderr",
     "output_type": "stream",
     "text": [
      "/tmp/ipykernel_2492/629128973.py:24: UserWarning: Converting non-nanosecond precision datetime values to nanosecond precision. This behavior can eventually be relaxed in xarray, as it is an artifact from pandas which is now beginning to support non-nanosecond precision values. This warning is caused by passing non-nanosecond np.datetime64 or np.timedelta64 values to the DataArray or Variable constructor; it can be silenced by converting the values to nanosecond precision ahead of time.\n",
      "  ds['time'] = times_extended\n",
      "/tmp/ipykernel_2492/629128973.py:24: UserWarning: Converting non-nanosecond precision datetime values to nanosecond precision. This behavior can eventually be relaxed in xarray, as it is an artifact from pandas which is now beginning to support non-nanosecond precision values. This warning is caused by passing non-nanosecond np.datetime64 or np.timedelta64 values to the DataArray or Variable constructor; it can be silenced by converting the values to nanosecond precision ahead of time.\n",
      "  ds['time'] = times_extended\n"
     ]
    },
    {
     "name": "stdout",
     "output_type": "stream",
     "text": [
      "file 2 is done\n"
     ]
    },
    {
     "name": "stderr",
     "output_type": "stream",
     "text": [
      "/tmp/ipykernel_2492/629128973.py:24: UserWarning: Converting non-nanosecond precision datetime values to nanosecond precision. This behavior can eventually be relaxed in xarray, as it is an artifact from pandas which is now beginning to support non-nanosecond precision values. This warning is caused by passing non-nanosecond np.datetime64 or np.timedelta64 values to the DataArray or Variable constructor; it can be silenced by converting the values to nanosecond precision ahead of time.\n",
      "  ds['time'] = times_extended\n",
      "/tmp/ipykernel_2492/629128973.py:24: UserWarning: Converting non-nanosecond precision datetime values to nanosecond precision. This behavior can eventually be relaxed in xarray, as it is an artifact from pandas which is now beginning to support non-nanosecond precision values. This warning is caused by passing non-nanosecond np.datetime64 or np.timedelta64 values to the DataArray or Variable constructor; it can be silenced by converting the values to nanosecond precision ahead of time.\n",
      "  ds['time'] = times_extended\n"
     ]
    },
    {
     "name": "stdout",
     "output_type": "stream",
     "text": [
      "file 3 is done\n"
     ]
    },
    {
     "name": "stderr",
     "output_type": "stream",
     "text": [
      "/tmp/ipykernel_2492/629128973.py:24: UserWarning: Converting non-nanosecond precision datetime values to nanosecond precision. This behavior can eventually be relaxed in xarray, as it is an artifact from pandas which is now beginning to support non-nanosecond precision values. This warning is caused by passing non-nanosecond np.datetime64 or np.timedelta64 values to the DataArray or Variable constructor; it can be silenced by converting the values to nanosecond precision ahead of time.\n",
      "  ds['time'] = times_extended\n",
      "/tmp/ipykernel_2492/629128973.py:24: UserWarning: Converting non-nanosecond precision datetime values to nanosecond precision. This behavior can eventually be relaxed in xarray, as it is an artifact from pandas which is now beginning to support non-nanosecond precision values. This warning is caused by passing non-nanosecond np.datetime64 or np.timedelta64 values to the DataArray or Variable constructor; it can be silenced by converting the values to nanosecond precision ahead of time.\n",
      "  ds['time'] = times_extended\n"
     ]
    },
    {
     "name": "stdout",
     "output_type": "stream",
     "text": [
      "file 4 is done\n"
     ]
    },
    {
     "name": "stderr",
     "output_type": "stream",
     "text": [
      "/tmp/ipykernel_2492/629128973.py:24: UserWarning: Converting non-nanosecond precision datetime values to nanosecond precision. This behavior can eventually be relaxed in xarray, as it is an artifact from pandas which is now beginning to support non-nanosecond precision values. This warning is caused by passing non-nanosecond np.datetime64 or np.timedelta64 values to the DataArray or Variable constructor; it can be silenced by converting the values to nanosecond precision ahead of time.\n",
      "  ds['time'] = times_extended\n",
      "/tmp/ipykernel_2492/629128973.py:24: UserWarning: Converting non-nanosecond precision datetime values to nanosecond precision. This behavior can eventually be relaxed in xarray, as it is an artifact from pandas which is now beginning to support non-nanosecond precision values. This warning is caused by passing non-nanosecond np.datetime64 or np.timedelta64 values to the DataArray or Variable constructor; it can be silenced by converting the values to nanosecond precision ahead of time.\n",
      "  ds['time'] = times_extended\n"
     ]
    },
    {
     "name": "stdout",
     "output_type": "stream",
     "text": [
      "file 5 is done\n"
     ]
    },
    {
     "name": "stderr",
     "output_type": "stream",
     "text": [
      "/tmp/ipykernel_2492/629128973.py:24: UserWarning: Converting non-nanosecond precision datetime values to nanosecond precision. This behavior can eventually be relaxed in xarray, as it is an artifact from pandas which is now beginning to support non-nanosecond precision values. This warning is caused by passing non-nanosecond np.datetime64 or np.timedelta64 values to the DataArray or Variable constructor; it can be silenced by converting the values to nanosecond precision ahead of time.\n",
      "  ds['time'] = times_extended\n",
      "/tmp/ipykernel_2492/629128973.py:24: UserWarning: Converting non-nanosecond precision datetime values to nanosecond precision. This behavior can eventually be relaxed in xarray, as it is an artifact from pandas which is now beginning to support non-nanosecond precision values. This warning is caused by passing non-nanosecond np.datetime64 or np.timedelta64 values to the DataArray or Variable constructor; it can be silenced by converting the values to nanosecond precision ahead of time.\n",
      "  ds['time'] = times_extended\n"
     ]
    },
    {
     "name": "stdout",
     "output_type": "stream",
     "text": [
      "file 6 is done\n"
     ]
    },
    {
     "name": "stderr",
     "output_type": "stream",
     "text": [
      "/tmp/ipykernel_2492/629128973.py:24: UserWarning: Converting non-nanosecond precision datetime values to nanosecond precision. This behavior can eventually be relaxed in xarray, as it is an artifact from pandas which is now beginning to support non-nanosecond precision values. This warning is caused by passing non-nanosecond np.datetime64 or np.timedelta64 values to the DataArray or Variable constructor; it can be silenced by converting the values to nanosecond precision ahead of time.\n",
      "  ds['time'] = times_extended\n",
      "/tmp/ipykernel_2492/629128973.py:24: UserWarning: Converting non-nanosecond precision datetime values to nanosecond precision. This behavior can eventually be relaxed in xarray, as it is an artifact from pandas which is now beginning to support non-nanosecond precision values. This warning is caused by passing non-nanosecond np.datetime64 or np.timedelta64 values to the DataArray or Variable constructor; it can be silenced by converting the values to nanosecond precision ahead of time.\n",
      "  ds['time'] = times_extended\n"
     ]
    },
    {
     "name": "stdout",
     "output_type": "stream",
     "text": [
      "file 7 is done\n"
     ]
    },
    {
     "name": "stderr",
     "output_type": "stream",
     "text": [
      "/tmp/ipykernel_2492/629128973.py:24: UserWarning: Converting non-nanosecond precision datetime values to nanosecond precision. This behavior can eventually be relaxed in xarray, as it is an artifact from pandas which is now beginning to support non-nanosecond precision values. This warning is caused by passing non-nanosecond np.datetime64 or np.timedelta64 values to the DataArray or Variable constructor; it can be silenced by converting the values to nanosecond precision ahead of time.\n",
      "  ds['time'] = times_extended\n",
      "/tmp/ipykernel_2492/629128973.py:24: UserWarning: Converting non-nanosecond precision datetime values to nanosecond precision. This behavior can eventually be relaxed in xarray, as it is an artifact from pandas which is now beginning to support non-nanosecond precision values. This warning is caused by passing non-nanosecond np.datetime64 or np.timedelta64 values to the DataArray or Variable constructor; it can be silenced by converting the values to nanosecond precision ahead of time.\n",
      "  ds['time'] = times_extended\n"
     ]
    },
    {
     "name": "stdout",
     "output_type": "stream",
     "text": [
      "file 8 is done\n"
     ]
    },
    {
     "name": "stderr",
     "output_type": "stream",
     "text": [
      "/tmp/ipykernel_2492/629128973.py:24: UserWarning: Converting non-nanosecond precision datetime values to nanosecond precision. This behavior can eventually be relaxed in xarray, as it is an artifact from pandas which is now beginning to support non-nanosecond precision values. This warning is caused by passing non-nanosecond np.datetime64 or np.timedelta64 values to the DataArray or Variable constructor; it can be silenced by converting the values to nanosecond precision ahead of time.\n",
      "  ds['time'] = times_extended\n",
      "/tmp/ipykernel_2492/629128973.py:24: UserWarning: Converting non-nanosecond precision datetime values to nanosecond precision. This behavior can eventually be relaxed in xarray, as it is an artifact from pandas which is now beginning to support non-nanosecond precision values. This warning is caused by passing non-nanosecond np.datetime64 or np.timedelta64 values to the DataArray or Variable constructor; it can be silenced by converting the values to nanosecond precision ahead of time.\n",
      "  ds['time'] = times_extended\n"
     ]
    },
    {
     "name": "stdout",
     "output_type": "stream",
     "text": [
      "file 9 is done\n"
     ]
    },
    {
     "name": "stderr",
     "output_type": "stream",
     "text": [
      "/tmp/ipykernel_2492/629128973.py:24: UserWarning: Converting non-nanosecond precision datetime values to nanosecond precision. This behavior can eventually be relaxed in xarray, as it is an artifact from pandas which is now beginning to support non-nanosecond precision values. This warning is caused by passing non-nanosecond np.datetime64 or np.timedelta64 values to the DataArray or Variable constructor; it can be silenced by converting the values to nanosecond precision ahead of time.\n",
      "  ds['time'] = times_extended\n",
      "/tmp/ipykernel_2492/629128973.py:24: UserWarning: Converting non-nanosecond precision datetime values to nanosecond precision. This behavior can eventually be relaxed in xarray, as it is an artifact from pandas which is now beginning to support non-nanosecond precision values. This warning is caused by passing non-nanosecond np.datetime64 or np.timedelta64 values to the DataArray or Variable constructor; it can be silenced by converting the values to nanosecond precision ahead of time.\n",
      "  ds['time'] = times_extended\n"
     ]
    },
    {
     "name": "stdout",
     "output_type": "stream",
     "text": [
      "file 10 is done\n"
     ]
    },
    {
     "name": "stderr",
     "output_type": "stream",
     "text": [
      "/tmp/ipykernel_2492/629128973.py:24: UserWarning: Converting non-nanosecond precision datetime values to nanosecond precision. This behavior can eventually be relaxed in xarray, as it is an artifact from pandas which is now beginning to support non-nanosecond precision values. This warning is caused by passing non-nanosecond np.datetime64 or np.timedelta64 values to the DataArray or Variable constructor; it can be silenced by converting the values to nanosecond precision ahead of time.\n",
      "  ds['time'] = times_extended\n",
      "/tmp/ipykernel_2492/629128973.py:24: UserWarning: Converting non-nanosecond precision datetime values to nanosecond precision. This behavior can eventually be relaxed in xarray, as it is an artifact from pandas which is now beginning to support non-nanosecond precision values. This warning is caused by passing non-nanosecond np.datetime64 or np.timedelta64 values to the DataArray or Variable constructor; it can be silenced by converting the values to nanosecond precision ahead of time.\n",
      "  ds['time'] = times_extended\n"
     ]
    },
    {
     "name": "stdout",
     "output_type": "stream",
     "text": [
      "file 11 is done\n"
     ]
    },
    {
     "name": "stderr",
     "output_type": "stream",
     "text": [
      "/tmp/ipykernel_2492/629128973.py:24: UserWarning: Converting non-nanosecond precision datetime values to nanosecond precision. This behavior can eventually be relaxed in xarray, as it is an artifact from pandas which is now beginning to support non-nanosecond precision values. This warning is caused by passing non-nanosecond np.datetime64 or np.timedelta64 values to the DataArray or Variable constructor; it can be silenced by converting the values to nanosecond precision ahead of time.\n",
      "  ds['time'] = times_extended\n",
      "/tmp/ipykernel_2492/629128973.py:24: UserWarning: Converting non-nanosecond precision datetime values to nanosecond precision. This behavior can eventually be relaxed in xarray, as it is an artifact from pandas which is now beginning to support non-nanosecond precision values. This warning is caused by passing non-nanosecond np.datetime64 or np.timedelta64 values to the DataArray or Variable constructor; it can be silenced by converting the values to nanosecond precision ahead of time.\n",
      "  ds['time'] = times_extended\n"
     ]
    },
    {
     "name": "stdout",
     "output_type": "stream",
     "text": [
      "file 12 is done\n"
     ]
    },
    {
     "name": "stderr",
     "output_type": "stream",
     "text": [
      "/tmp/ipykernel_2492/629128973.py:24: UserWarning: Converting non-nanosecond precision datetime values to nanosecond precision. This behavior can eventually be relaxed in xarray, as it is an artifact from pandas which is now beginning to support non-nanosecond precision values. This warning is caused by passing non-nanosecond np.datetime64 or np.timedelta64 values to the DataArray or Variable constructor; it can be silenced by converting the values to nanosecond precision ahead of time.\n",
      "  ds['time'] = times_extended\n",
      "/tmp/ipykernel_2492/629128973.py:24: UserWarning: Converting non-nanosecond precision datetime values to nanosecond precision. This behavior can eventually be relaxed in xarray, as it is an artifact from pandas which is now beginning to support non-nanosecond precision values. This warning is caused by passing non-nanosecond np.datetime64 or np.timedelta64 values to the DataArray or Variable constructor; it can be silenced by converting the values to nanosecond precision ahead of time.\n",
      "  ds['time'] = times_extended\n"
     ]
    },
    {
     "name": "stdout",
     "output_type": "stream",
     "text": [
      "file 13 is done\n"
     ]
    },
    {
     "name": "stderr",
     "output_type": "stream",
     "text": [
      "/tmp/ipykernel_2492/629128973.py:24: UserWarning: Converting non-nanosecond precision datetime values to nanosecond precision. This behavior can eventually be relaxed in xarray, as it is an artifact from pandas which is now beginning to support non-nanosecond precision values. This warning is caused by passing non-nanosecond np.datetime64 or np.timedelta64 values to the DataArray or Variable constructor; it can be silenced by converting the values to nanosecond precision ahead of time.\n",
      "  ds['time'] = times_extended\n",
      "/tmp/ipykernel_2492/629128973.py:24: UserWarning: Converting non-nanosecond precision datetime values to nanosecond precision. This behavior can eventually be relaxed in xarray, as it is an artifact from pandas which is now beginning to support non-nanosecond precision values. This warning is caused by passing non-nanosecond np.datetime64 or np.timedelta64 values to the DataArray or Variable constructor; it can be silenced by converting the values to nanosecond precision ahead of time.\n",
      "  ds['time'] = times_extended\n"
     ]
    },
    {
     "name": "stdout",
     "output_type": "stream",
     "text": [
      "file 14 is done\n"
     ]
    },
    {
     "name": "stderr",
     "output_type": "stream",
     "text": [
      "/tmp/ipykernel_2492/629128973.py:24: UserWarning: Converting non-nanosecond precision datetime values to nanosecond precision. This behavior can eventually be relaxed in xarray, as it is an artifact from pandas which is now beginning to support non-nanosecond precision values. This warning is caused by passing non-nanosecond np.datetime64 or np.timedelta64 values to the DataArray or Variable constructor; it can be silenced by converting the values to nanosecond precision ahead of time.\n",
      "  ds['time'] = times_extended\n",
      "/tmp/ipykernel_2492/629128973.py:24: UserWarning: Converting non-nanosecond precision datetime values to nanosecond precision. This behavior can eventually be relaxed in xarray, as it is an artifact from pandas which is now beginning to support non-nanosecond precision values. This warning is caused by passing non-nanosecond np.datetime64 or np.timedelta64 values to the DataArray or Variable constructor; it can be silenced by converting the values to nanosecond precision ahead of time.\n",
      "  ds['time'] = times_extended\n"
     ]
    },
    {
     "name": "stdout",
     "output_type": "stream",
     "text": [
      "file 15 is done\n"
     ]
    },
    {
     "name": "stderr",
     "output_type": "stream",
     "text": [
      "/tmp/ipykernel_2492/629128973.py:24: UserWarning: Converting non-nanosecond precision datetime values to nanosecond precision. This behavior can eventually be relaxed in xarray, as it is an artifact from pandas which is now beginning to support non-nanosecond precision values. This warning is caused by passing non-nanosecond np.datetime64 or np.timedelta64 values to the DataArray or Variable constructor; it can be silenced by converting the values to nanosecond precision ahead of time.\n",
      "  ds['time'] = times_extended\n",
      "/tmp/ipykernel_2492/629128973.py:24: UserWarning: Converting non-nanosecond precision datetime values to nanosecond precision. This behavior can eventually be relaxed in xarray, as it is an artifact from pandas which is now beginning to support non-nanosecond precision values. This warning is caused by passing non-nanosecond np.datetime64 or np.timedelta64 values to the DataArray or Variable constructor; it can be silenced by converting the values to nanosecond precision ahead of time.\n",
      "  ds['time'] = times_extended\n"
     ]
    },
    {
     "name": "stdout",
     "output_type": "stream",
     "text": [
      "file 16 is done\n"
     ]
    },
    {
     "name": "stderr",
     "output_type": "stream",
     "text": [
      "/tmp/ipykernel_2492/629128973.py:24: UserWarning: Converting non-nanosecond precision datetime values to nanosecond precision. This behavior can eventually be relaxed in xarray, as it is an artifact from pandas which is now beginning to support non-nanosecond precision values. This warning is caused by passing non-nanosecond np.datetime64 or np.timedelta64 values to the DataArray or Variable constructor; it can be silenced by converting the values to nanosecond precision ahead of time.\n",
      "  ds['time'] = times_extended\n",
      "/tmp/ipykernel_2492/629128973.py:24: UserWarning: Converting non-nanosecond precision datetime values to nanosecond precision. This behavior can eventually be relaxed in xarray, as it is an artifact from pandas which is now beginning to support non-nanosecond precision values. This warning is caused by passing non-nanosecond np.datetime64 or np.timedelta64 values to the DataArray or Variable constructor; it can be silenced by converting the values to nanosecond precision ahead of time.\n",
      "  ds['time'] = times_extended\n"
     ]
    },
    {
     "name": "stdout",
     "output_type": "stream",
     "text": [
      "file 17 is done\n"
     ]
    },
    {
     "name": "stderr",
     "output_type": "stream",
     "text": [
      "/tmp/ipykernel_2492/629128973.py:24: UserWarning: Converting non-nanosecond precision datetime values to nanosecond precision. This behavior can eventually be relaxed in xarray, as it is an artifact from pandas which is now beginning to support non-nanosecond precision values. This warning is caused by passing non-nanosecond np.datetime64 or np.timedelta64 values to the DataArray or Variable constructor; it can be silenced by converting the values to nanosecond precision ahead of time.\n",
      "  ds['time'] = times_extended\n",
      "/tmp/ipykernel_2492/629128973.py:24: UserWarning: Converting non-nanosecond precision datetime values to nanosecond precision. This behavior can eventually be relaxed in xarray, as it is an artifact from pandas which is now beginning to support non-nanosecond precision values. This warning is caused by passing non-nanosecond np.datetime64 or np.timedelta64 values to the DataArray or Variable constructor; it can be silenced by converting the values to nanosecond precision ahead of time.\n",
      "  ds['time'] = times_extended\n"
     ]
    },
    {
     "name": "stdout",
     "output_type": "stream",
     "text": [
      "file 18 is done\n"
     ]
    },
    {
     "name": "stderr",
     "output_type": "stream",
     "text": [
      "/tmp/ipykernel_2492/629128973.py:24: UserWarning: Converting non-nanosecond precision datetime values to nanosecond precision. This behavior can eventually be relaxed in xarray, as it is an artifact from pandas which is now beginning to support non-nanosecond precision values. This warning is caused by passing non-nanosecond np.datetime64 or np.timedelta64 values to the DataArray or Variable constructor; it can be silenced by converting the values to nanosecond precision ahead of time.\n",
      "  ds['time'] = times_extended\n",
      "/tmp/ipykernel_2492/629128973.py:24: UserWarning: Converting non-nanosecond precision datetime values to nanosecond precision. This behavior can eventually be relaxed in xarray, as it is an artifact from pandas which is now beginning to support non-nanosecond precision values. This warning is caused by passing non-nanosecond np.datetime64 or np.timedelta64 values to the DataArray or Variable constructor; it can be silenced by converting the values to nanosecond precision ahead of time.\n",
      "  ds['time'] = times_extended\n"
     ]
    },
    {
     "name": "stdout",
     "output_type": "stream",
     "text": [
      "file 19 is done\n"
     ]
    },
    {
     "name": "stderr",
     "output_type": "stream",
     "text": [
      "/tmp/ipykernel_2492/629128973.py:24: UserWarning: Converting non-nanosecond precision datetime values to nanosecond precision. This behavior can eventually be relaxed in xarray, as it is an artifact from pandas which is now beginning to support non-nanosecond precision values. This warning is caused by passing non-nanosecond np.datetime64 or np.timedelta64 values to the DataArray or Variable constructor; it can be silenced by converting the values to nanosecond precision ahead of time.\n",
      "  ds['time'] = times_extended\n",
      "/tmp/ipykernel_2492/629128973.py:24: UserWarning: Converting non-nanosecond precision datetime values to nanosecond precision. This behavior can eventually be relaxed in xarray, as it is an artifact from pandas which is now beginning to support non-nanosecond precision values. This warning is caused by passing non-nanosecond np.datetime64 or np.timedelta64 values to the DataArray or Variable constructor; it can be silenced by converting the values to nanosecond precision ahead of time.\n",
      "  ds['time'] = times_extended\n"
     ]
    },
    {
     "name": "stdout",
     "output_type": "stream",
     "text": [
      "file 20 is done\n"
     ]
    },
    {
     "name": "stderr",
     "output_type": "stream",
     "text": [
      "/tmp/ipykernel_2492/629128973.py:24: UserWarning: Converting non-nanosecond precision datetime values to nanosecond precision. This behavior can eventually be relaxed in xarray, as it is an artifact from pandas which is now beginning to support non-nanosecond precision values. This warning is caused by passing non-nanosecond np.datetime64 or np.timedelta64 values to the DataArray or Variable constructor; it can be silenced by converting the values to nanosecond precision ahead of time.\n",
      "  ds['time'] = times_extended\n",
      "/tmp/ipykernel_2492/629128973.py:24: UserWarning: Converting non-nanosecond precision datetime values to nanosecond precision. This behavior can eventually be relaxed in xarray, as it is an artifact from pandas which is now beginning to support non-nanosecond precision values. This warning is caused by passing non-nanosecond np.datetime64 or np.timedelta64 values to the DataArray or Variable constructor; it can be silenced by converting the values to nanosecond precision ahead of time.\n",
      "  ds['time'] = times_extended\n"
     ]
    },
    {
     "name": "stdout",
     "output_type": "stream",
     "text": [
      "file 21 is done\n"
     ]
    },
    {
     "name": "stderr",
     "output_type": "stream",
     "text": [
      "/tmp/ipykernel_2492/629128973.py:24: UserWarning: Converting non-nanosecond precision datetime values to nanosecond precision. This behavior can eventually be relaxed in xarray, as it is an artifact from pandas which is now beginning to support non-nanosecond precision values. This warning is caused by passing non-nanosecond np.datetime64 or np.timedelta64 values to the DataArray or Variable constructor; it can be silenced by converting the values to nanosecond precision ahead of time.\n",
      "  ds['time'] = times_extended\n",
      "/tmp/ipykernel_2492/629128973.py:24: UserWarning: Converting non-nanosecond precision datetime values to nanosecond precision. This behavior can eventually be relaxed in xarray, as it is an artifact from pandas which is now beginning to support non-nanosecond precision values. This warning is caused by passing non-nanosecond np.datetime64 or np.timedelta64 values to the DataArray or Variable constructor; it can be silenced by converting the values to nanosecond precision ahead of time.\n",
      "  ds['time'] = times_extended\n"
     ]
    },
    {
     "name": "stdout",
     "output_type": "stream",
     "text": [
      "file 22 is done\n"
     ]
    },
    {
     "name": "stderr",
     "output_type": "stream",
     "text": [
      "/tmp/ipykernel_2492/629128973.py:24: UserWarning: Converting non-nanosecond precision datetime values to nanosecond precision. This behavior can eventually be relaxed in xarray, as it is an artifact from pandas which is now beginning to support non-nanosecond precision values. This warning is caused by passing non-nanosecond np.datetime64 or np.timedelta64 values to the DataArray or Variable constructor; it can be silenced by converting the values to nanosecond precision ahead of time.\n",
      "  ds['time'] = times_extended\n",
      "/tmp/ipykernel_2492/629128973.py:24: UserWarning: Converting non-nanosecond precision datetime values to nanosecond precision. This behavior can eventually be relaxed in xarray, as it is an artifact from pandas which is now beginning to support non-nanosecond precision values. This warning is caused by passing non-nanosecond np.datetime64 or np.timedelta64 values to the DataArray or Variable constructor; it can be silenced by converting the values to nanosecond precision ahead of time.\n",
      "  ds['time'] = times_extended\n"
     ]
    },
    {
     "name": "stdout",
     "output_type": "stream",
     "text": [
      "file 23 is done\n"
     ]
    },
    {
     "name": "stderr",
     "output_type": "stream",
     "text": [
      "/tmp/ipykernel_2492/629128973.py:24: UserWarning: Converting non-nanosecond precision datetime values to nanosecond precision. This behavior can eventually be relaxed in xarray, as it is an artifact from pandas which is now beginning to support non-nanosecond precision values. This warning is caused by passing non-nanosecond np.datetime64 or np.timedelta64 values to the DataArray or Variable constructor; it can be silenced by converting the values to nanosecond precision ahead of time.\n",
      "  ds['time'] = times_extended\n",
      "/tmp/ipykernel_2492/629128973.py:24: UserWarning: Converting non-nanosecond precision datetime values to nanosecond precision. This behavior can eventually be relaxed in xarray, as it is an artifact from pandas which is now beginning to support non-nanosecond precision values. This warning is caused by passing non-nanosecond np.datetime64 or np.timedelta64 values to the DataArray or Variable constructor; it can be silenced by converting the values to nanosecond precision ahead of time.\n",
      "  ds['time'] = times_extended\n"
     ]
    },
    {
     "name": "stdout",
     "output_type": "stream",
     "text": [
      "file 24 is done\n"
     ]
    }
   ],
   "source": [
    "i = 1\n",
    "\n",
    "for file in files :\n",
    "\n",
    "    xdas = read_das(file, preprocess=correct_gps_time)\n",
    "\n",
    "    dimensions = xdas.dims\n",
    "    strain_rates = xdas.values\n",
    "    das = xdas.coords\n",
    "    times_extended = pd.to_datetime(das['time'])\n",
    "\n",
    "    ds = xr.Dataset({\n",
    "        'strain_rates': (dimensions, strain_rates),\n",
    "        'longitude': ('channels', longitude),\n",
    "        'latitude': ('channels', latitude),\n",
    "        'altitude': ('channels', altitude),\n",
    "        'orientation': ('channels', orientation)\n",
    "            })\n",
    "    ds['time'] = times_extended\n",
    "    ds['offset'] = das['offset']\n",
    "    ds['channels'] = channels\n",
    "\n",
    "    ds.attrs['unit'] = f'strain rates in 10e-8 /s'\n",
    "    ds.attrs['gauge_length'] = '5m'\n",
    "\n",
    "    ds = ds.rename({'time': 'times', 'offset': 'offsets'})\n",
    "\n",
    "    fileout = file.replace('.h5','.nc').replace(path1, path2).replace('SR_DS','SR_FEBUS')\n",
    "    ds.to_netcdf(fileout)\n",
    "\n",
    "    print(f'file {i} is done')\n",
    "    i +=1"
   ]
  }
 ],
 "metadata": {
  "kernelspec": {
   "display_name": "das",
   "language": "python",
   "name": "python3"
  },
  "language_info": {
   "codemirror_mode": {
    "name": "ipython",
    "version": 3
   },
   "file_extension": ".py",
   "mimetype": "text/x-python",
   "name": "python",
   "nbconvert_exporter": "python",
   "pygments_lexer": "ipython3",
   "version": "3.11.5"
  },
  "orig_nbformat": 4
 },
 "nbformat": 4,
 "nbformat_minor": 2
}
